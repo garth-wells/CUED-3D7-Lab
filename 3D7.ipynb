{
  "cells": [
    {
      "cell_type": "markdown",
      "metadata": {
        "id": "gjJoUIThKVi9"
      },
      "source": [
        "# 3D7 Finite Element Methods Laboratory\n",
        "\n",
        "Copyright (C) 2023-2024 Garth N. Wells\n",
        "\n",
        "In this lab exercise the finite element method is used to analyse the tensioned strip with a circular hole that was considered in the 3C7 lab."
      ]
    },
    {
      "cell_type": "markdown",
      "metadata": {
        "id": "ax85sGcTQYAC"
      },
      "source": [
        "## Objectives\n",
        "\n",
        "1. Use a finite element package to solve linear elasticity equations.\n",
        "1. Generate finite element meshes using a mesh generator.\n",
        "1. Identify and define appropriate boundary conditions.\n",
        "1. Analyse the influence of the mesh refinement on the final results.\n",
        "1. Compare finite element results with experimental measurements and analytical solutions .\n"
      ]
    },
    {
      "cell_type": "markdown",
      "metadata": {
        "id": "7gCxh0RUQdy1"
      },
      "source": [
        "## Problem description\n",
        "\n",
        "This lab exercise involves performing finite element analyses of a tensioned strip with a circular hole using various meshes. The quantity of interest is the stress field in the strip. The meshes are generated with [Gmsh](https://gmsh.info/) and the finite element analysis is performed with [FEniCSx](https://fenicsproject.org/).\n",
        "\n",
        "The strip has the width $100$ mm, length $300$ mm, thickness $1.7$ mm and  hole radius $R = 14.8$ mm.  The strip is subjected to uniform tension of $\\sigma_0$ applied at its two ends through. The total applied force is $F=10$ kN.\n",
        "\n",
        "The Young's modulus is $E = 70$ GPa and Poisson's ratio is $\\nu = 0.33$."
      ]
    },
    {
      "cell_type": "markdown",
      "metadata": {
        "id": "NMWvB-yaQxUX"
      },
      "source": [
        "### Modelling\n",
        "\n",
        "Symmetry can be exploited for the plate with a hole in the centre, allowing just one quarter of the plate to be modelled. Appropriate boundary conditions should be applied on the symmetry planes."
      ]
    },
    {
      "cell_type": "markdown",
      "metadata": {
        "id": "86w1dArzf07b"
      },
      "source": [
        "### Analysis\n",
        "\n",
        "Explore the influence of mesh refinement on the computed solution. Your examination should include:\n",
        "1. A uniform mesh (roughly the same cell size throughout the domain) with approximately 750 elements (linear element).\n",
        "\n",
        "1. A uniform mesh with approximately 25,000 elements (linear element).\n",
        "\n",
        "1. A locally refined mesh with approximately 1,000 elements (linear element).\n",
        "\n",
        "1. Comparison of results for linear and quadratic elements (do not use an overly fine mesh)\n",
        "\n",
        "1. Along the horizontal and vertical symmetry axes, plot the normal stress distributions calculated with the different meshes. Compare these stresses with those obtained for a hole in an infinite\n",
        "plate that is stretched uniformly and also compare the stress at the periphery of\n",
        "the hole with Howland's analytical solution (see Appendix).\n",
        "\n",
        "1. On the same graph plot the stresses measured experimentally in the 3C7 laboratory (if you did not do 3C7, you can download data from the 3D7 Moodle page).\n",
        "\n",
        "1. Examining the von Mises stress contours indicates where yielding would first initiate in this strip. Estimate the applied stress $\\sigma_0$ at which yielding initiates in a strip made from an Al-alloy (yield strength of the Al-alloy is 200 MPa).\n"
      ]
    },
    {
      "cell_type": "markdown",
      "metadata": {
        "id": "pHPZVbEhetxN"
      },
      "source": [
        "### Post-processing and visualisation\n",
        "\n",
        "It can be useful to explore computed solutions interactively. At points in the notebook, XMDF files are written. These files can be downloaded and visualised using [ParaView](https://www.paraview.org/)."
      ]
    },
    {
      "cell_type": "markdown",
      "metadata": {
        "id": "1kHAxsvWRkCK"
      },
      "source": [
        "### Off-centre hole analysis (Full Technical Report only)\n",
        "\n",
        "> **Note:** This section is optional for the standard laboratory; result from this section \n",
        "are not required in the\n",
        "standard Laboratory Report. Students using this laboratory exercise for their Full\n",
        "Technical Report must do this analysis in full and discuss it in their report.\n",
        "\n",
        "Using a very fine reference mesh with linear triangles and a mesh of quadratic triangles\n",
        "with far fewer cells, analyse the plate (length, width and thickness are the same as in the previous section) with\n",
        "an off-centre hole. The plate is subjected to uniform tension of $\\sigma_0$ applied at its two ends through a tensometer. The total applied force is $F=10$ kN. The distance\n",
        "of the hole centre from the centre-line is $e = 16$ mm and the radius of the hole  is $R = 14.8$ mm. The material properties are the same as those used above.\n",
        "\n",
        "Begin with a sketch of the boundary value problem to analyse (taking into account any symmetries) and then adjust the number of elements and their size distribution to obtain the greatest accuracy with a limited\n",
        "number of cells. Plot the distributions of horizontal and vertical stress along axes passing through the centre of the hole and parallel to the sides of the plate."
      ]
    },
    {
      "cell_type": "markdown",
      "metadata": {
        "id": "AjrgCsJTSh4A"
      },
      "source": [
        "## Write up\n",
        "\n",
        "Finite element methods can produce vast amounts of data. Be selective in what you present. Careful selection of what to present is an important part of this exercise."
      ]
    },
    {
      "cell_type": "markdown",
      "metadata": {
        "id": "JZmPidbPSlAi"
      },
      "source": [
        "### Laboratory report (3 hours)\n",
        "\n",
        "This should be word-processed and no more than three pages, excluding diagrams\n",
        "and graphs. The report pertains only to the centred hole problem and should\n",
        "contain your results from the Analysis section and discussion of the the below points, in addition to any other issues that you may wish to discuss.\n",
        "\n",
        "1. Discuss reasons for any differences between the measured, analytical and finite element stresses and comment on the relative accuracies of the finite element models with the different meshes.\n",
        "\n",
        "1. Briefly discuss the finite element modelling approach used to analyse the problem.\n",
        "\n",
        "You may wish to use [ParaView](https://www.paraview.org/) to produce mesh and contour plots, and [Matplotlib](https://matplotlib.org/) for line plots (outside of this notebook).\n"
      ]
    },
    {
      "cell_type": "markdown",
      "metadata": {
        "id": "VWc1kJijTUCW"
      },
      "source": [
        "### Full Technical Report (10 additional hours)\n",
        "\n",
        "Guidance on the preparation of Full Technical Reports is provided in Appendix I of the\n",
        "General Instructions document and in the CUED booklet *A Guide to Report Writing*,\n",
        "with which you were issued in the first year. If you are submitting a Full Technical Report\n",
        "on this experiment, you can either use the books indicated in the References section\n",
        "below or do your own literature review. You should include your Laboratory report as an Appendix and refer to it as\n",
        "appropriate.\n",
        "\n",
        "The Full Technical Report should provide further investigation of aspects addressed in the lab.\n",
        "You are free to pick topics that interest you, but must include:\n",
        "\n",
        "1. Discuss the boundary conditions used to represent the off-centre hole problem.\n",
        "How was rigid body motion prevented in this problem? The loading can also be applied by prescribing displacements (instead of applying traction) at one of the two ends of the plate. Implement this in the notebook and describe how this changes the results.\n",
        "\n",
        "1. For the off-centre hole problem, plot the vertical and horizontal distributions along axes passing through the centre of the hole and parallel to the sides of the plate. Compare\n",
        "these with the strain gauge measurements that you can download from Moodle (these are results\n",
        "from the 3C7 Laboratory). The off-centre hole problem has no known analytical solution. Given more time,\n",
        "how could you test the accuracy of your calculation of the stresses around the hole?\n",
        "\n",
        "1. Examine the convergence of the problem, in a measure of interest, with mesh refinement.\n"
      ]
    },
    {
      "cell_type": "markdown",
      "metadata": {
        "id": "dT1GAe-HQe1b"
      },
      "source": [
        "# Finite element simulation"
      ]
    },
    {
      "cell_type": "markdown",
      "metadata": {
        "id": "IlHThohrKj6y"
      },
      "source": [
        "## Installing and importing the required modules\n",
        "\n",
        "We first import the mesh generator [Gmsh](https://gmsh.info/) and the finite element library [DOLFINx](https://fenicsproject.org/).\n",
        "\n",
        "When using Colab install scripts from https://fem-on-colab.github.io/ are used."
      ]
    },
    {
      "cell_type": "code",
      "execution_count": null,
      "metadata": {
        "colab": {
          "base_uri": "https://localhost:8080/"
        },
        "id": "0c1N4vmbOsEx",
        "outputId": "7db4ee4d-4efc-499b-cb07-59819307834d"
      },
      "outputs": [],
      "source": [
        "import sys\n",
        "if 'google.colab' in sys.modules:\n",
        "    try:\n",
        "        import gmsh\n",
        "    except ImportError:\n",
        "        !wget \"https://fem-on-colab.github.io/releases/gmsh-install.sh\" -O \"/tmp/gmsh-install.sh\" && bash \"/tmp/gmsh-install.sh\"\n",
        "        import gmsh\n",
        "\n",
        "    try:\n",
        "        import dolfinx\n",
        "    except ImportError:\n",
        "        !wget \"https://github.com/fem-on-colab/fem-on-colab.github.io/raw/dd3e6b7b1355000efe7865c3bb4980503c0d8eb6/releases/fenicsx-install-real.sh\" -O \"/tmp/fenicsx-install.sh\" && bash \"/tmp/fenicsx-install.sh\"\n",
        "        import dolfinx\n",
        "else:\n",
        "    import gmsh\n",
        "    import dolfinx"
      ]
    },
    {
      "cell_type": "markdown",
      "metadata": {
        "id": "2i5fLyIxL0Fg"
      },
      "source": [
        "Import the other required modules."
      ]
    },
    {
      "cell_type": "code",
      "execution_count": null,
      "metadata": {
        "id": "v6g0lab1L6MK"
      },
      "outputs": [],
      "source": [
        "import matplotlib.pyplot as plt\n",
        "import numpy as np\n",
        "import pyvista\n",
        "import ufl\n",
        "\n",
        "pyvista.start_xvfb()\n",
        "\n",
        "# MPI communicator (this manages parallel computation, but we will run in serial)\n",
        "from mpi4py import MPI\n",
        "\n",
        "comm = MPI.COMM_WORLD\n",
        "\n",
        "# PyVista global options\n",
        "pyvista.global_theme.font.size = 12\n",
        "pyvista.global_theme.font.title_size = 16\n",
        "pyvista.global_theme.font.label_size = 12\n",
        "pyvista.global_theme.background = 'white'\n",
        "pyvista.global_theme.font.color = 'grey'\n",
        "\n",
        "pyvista.global_theme.cmap = 'jet'"
      ]
    },
    {
      "cell_type": "markdown",
      "metadata": {
        "id": "fUxxixoyL7VE"
      },
      "source": [
        "## Generating the mesh\n",
        "\n",
        "A mesh of a plate with a hole is generated using Gmsh. Note the lines that controls the mesh refinement."
      ]
    },
    {
      "cell_type": "code",
      "execution_count": null,
      "metadata": {
        "colab": {
          "base_uri": "https://localhost:8080/"
        },
        "id": "voH5FTmSL-KU",
        "outputId": "afb64404-d6b3-46c0-cd38-fd878dcbdf92"
      },
      "outputs": [],
      "source": [
        "length = 150  # half-length of the plate\n",
        "width = 50   # half-width of the plate\n",
        "r = 14.8  # radius of the hole\n",
        "cx, cy = 0.0, 0.0  # Location of the centre of the hole\n",
        "\n",
        "# Geometric dimension of the problem\n",
        "gdim = 2\n",
        "\n",
        "if gmsh.isInitialized():\n",
        "    gmsh.finalize()\n",
        "gmsh.initialize()\n",
        "\n",
        "# Create a rectangle with the dimensions of the plate\n",
        "# and a 'disk' for the hole\n",
        "rectangle = gmsh.model.occ.addRectangle(0, 0, 0, length, width, tag=1)\n",
        "circle = gmsh.model.occ.addDisk(cx, cy, 0, r, r)\n",
        "\n",
        "# Cut the disk (circle) from rectangle\n",
        "plate = gmsh.model.occ.cut([(gdim, rectangle)], [(gdim, circle)])\n",
        "gmsh.model.occ.synchronize()\n",
        "\n",
        "# Create a physcal group\n",
        "volumes = gmsh.model.getEntities(dim=2)\n",
        "assert len(volumes) == 1\n",
        "gmsh.model.addPhysicalGroup(volumes[0][0], [volumes[0][1]])\n",
        "\n",
        "# Option 1: Set the cell size for a mesh with a uniform cell size\n",
        "gmsh.model.mesh.setSize(gmsh.model.getEntities(0), 10.0)\n",
        "\n",
        "# Option 2: Set the a cell size field as a function of position.\n",
        "# The below sets the size to be proportional to d^2, where d is the distance\n",
        "# from the origin, and with a size of h_min on the circle. Changing the\n",
        "# function changes how the cell size changes.\n",
        "#\n",
        "# h_min = 0.7  # Cell size at the hole\n",
        "# hfield = gmsh.model.mesh.field.add(\"MathEval\")  # Define a field on mesh\n",
        "# gmsh.model.mesh.field.set_string(hfield, \"F\", f\"{h_min} * ((x-{cx})^2 + (y-{cy})^2)/{r}^2\")\n",
        "# gmsh.model.mesh.field.setAsBackgroundMesh(hfield)\n",
        "\n",
        "# Generate a mesh\n",
        "gmsh.model.mesh.generate(gdim)\n",
        "\n",
        "# Create a DOLFINx mesh from the Gmsh mesh\n",
        "msh, _, _ = dolfinx.io.gmshio.model_to_mesh(gmsh.model, comm, 0, gdim=gdim)\n",
        "\n",
        "# Finalise Gmsh session\n",
        "gmsh.finalize()\n",
        "\n",
        "print(\"Number of cells in the mesh:\", msh.topology.index_map(2).size_local)"
      ]
    },
    {
      "cell_type": "markdown",
      "metadata": {
        "id": "Br-aGE5pOOAm"
      },
      "source": [
        "We can check the mesh visually."
      ]
    },
    {
      "cell_type": "code",
      "execution_count": null,
      "metadata": {
        "colab": {
          "base_uri": "https://localhost:8080/",
          "height": 536
        },
        "id": "YNiZAg9lNuRW",
        "outputId": "725616b9-d670-4853-ac18-418f58a0a746"
      },
      "outputs": [],
      "source": [
        "# Create a PyVista-compatible VTK mesh for plotting\n",
        "cells, types, x = dolfinx.plot.vtk_mesh(msh)\n",
        "grid = pyvista.UnstructuredGrid(cells, types, x)\n",
        "\n",
        "pl = pyvista.Plotter(notebook=True)\n",
        "pl.add_mesh(grid, show_edges=True)\n",
        "pl.view_xy()\n",
        "pl.show(jupyter_backend=\"static\", return_viewer=True)"
      ]
    },
    {
      "cell_type": "markdown",
      "metadata": {
        "id": "H0bxY1wlB4h_"
      },
      "source": [
        "### Marking boundaries\n",
        "\n",
        "We now find the cell facets on boundaries where boundary conditions will be applied.\n",
        "\n",
        "For the RHS of the domain, where a Neumann (force) boundary condition will be applied, a 'mesh tag' `ft` is created with the marker `2`."
      ]
    },
    {
      "cell_type": "code",
      "execution_count": null,
      "metadata": {
        "id": "CHnDyjJZyGQt"
      },
      "outputs": [],
      "source": [
        "# Cell facets on the x_0 = 0 boundary\n",
        "facets0 = dolfinx.mesh.locate_entities_boundary(msh, dim=1, marker=lambda x: np.isclose(x[0], 0.0))\n",
        "\n",
        "# Cell facets on the x_1 = 0 boundary\n",
        "facets1 = dolfinx.mesh.locate_entities_boundary(msh, dim=1, marker=lambda x: np.isclose(x[1], 0.0))\n",
        "\n",
        "# Cell facets on the x_0 = L boundary and a marker function\n",
        "facets2 = np.sort(dolfinx.mesh.locate_entities_boundary(msh, dim=1, marker=lambda x: np.isclose(x[0], length)))\n",
        "ft = dolfinx.mesh.meshtags(msh, 1, facets2, values=2)"
      ]
    },
    {
      "cell_type": "markdown",
      "metadata": {
        "id": "biDS3cn7PAdw"
      },
      "source": [
        "We can check visually that the RHS boundary has been tagged correctly by visualising the marker function."
      ]
    },
    {
      "cell_type": "code",
      "execution_count": null,
      "metadata": {
        "colab": {
          "base_uri": "https://localhost:8080/",
          "height": 536
        },
        "id": "cHr6E7aUPAwe",
        "outputId": "070e95e9-d2ad-4cc7-8cd4-9e8b8dcb217c"
      },
      "outputs": [],
      "source": [
        "fcells, ftypes, fx = dolfinx.plot.vtk_mesh(msh, 1, ft.indices)\n",
        "fgrid = pyvista.UnstructuredGrid(fcells, ftypes, fx)\n",
        "\n",
        "fgrid.cell_data[\"Marker\"] = ft.values\n",
        "fgrid.set_active_scalars(\"Marker\")\n",
        "\n",
        "pl = pyvista.Plotter(notebook=True)\n",
        "pl.add_mesh(grid, opacity=0.25, show_edges=True)\n",
        "pl.add_mesh(fgrid, line_width=2.0, show_edges=True)\n",
        "pl.view_xy()\n",
        "pl.show(jupyter_backend=\"static\", return_viewer=True)"
      ]
    },
    {
      "cell_type": "markdown",
      "metadata": {
        "id": "KFIWDQBVP_I_"
      },
      "source": [
        "## Elasticity problem\n",
        "\n",
        "The elasticity finite element problem is now defined."
      ]
    },
    {
      "cell_type": "markdown",
      "metadata": {
        "id": "LF5iTNbwcfqz"
      },
      "source": [
        "### Model parameters\n",
        "\n",
        "The Youngs modulus and the Poisson ration are set, and the Lame parameters computed."
      ]
    },
    {
      "cell_type": "code",
      "execution_count": null,
      "metadata": {
        "id": "9UcMMmDtQCN3"
      },
      "outputs": [],
      "source": [
        "E = 70000.0  # (N/mm^2)\n",
        "ν = 0.33"
      ]
    },
    {
      "cell_type": "markdown",
      "metadata": {
        "id": "268LfIL8QOf2"
      },
      "source": [
        "### Finite element formulation\n",
        "\n",
        "The finite element problem is now defined using DOLFINx.\n",
        "\n",
        "> The degree of the finite element basis functions is set below by the variable `P`."
      ]
    },
    {
      "cell_type": "code",
      "execution_count": null,
      "metadata": {
        "id": "TY6S1EQmQRUi"
      },
      "outputs": [],
      "source": [
        "def σ(v):\n",
        "    \"\"\"Return an expression for the stress σ given a displacement field\"\"\"\n",
        "    return (E / (1 + ν)) * ufl.sym(ufl.grad(v)) + (E * ν/(1 - ν * ν)) * ufl.tr(ufl.sym(ufl.grad(v))) * ufl.Identity(len(v))\n",
        "\n",
        "\n",
        "# Applied traction (N/mm^2)\n",
        "f = ufl.as_vector([58.0, 0.0])\n",
        "\n",
        "# Boundary integral measure. The mesh tag is associated with the domain since\n",
        "# the force term should be integrated only over the facets tagged '2'\n",
        "ds = ufl.Measure(\"ds\", subdomain_data=ft)\n",
        "\n",
        "# Define the finite element function space of polynomial order P\n",
        "P = 1\n",
        "V = dolfinx.fem.functionspace(msh, (\"Lagrange\", P, (msh.geometry.dim,)))\n",
        "\n",
        "# Create test and trial functions\n",
        "u, v = ufl.TrialFunction(V), ufl.TestFunction(V)\n",
        "\n",
        "# Create bilinear and linear forms. The bilinear form is used to build the\n",
        "# stiffness matrix and the linear form is used to generate the RHS vector.\n",
        "a = ufl.inner(σ(u), ufl.grad(v)) * ufl.dx\n",
        "L = ufl.inner(f, v) * ds(2)  # Integrate over domain '2' only"
      ]
    },
    {
      "cell_type": "markdown",
      "metadata": {
        "id": "sOZV0P0ZQ51y"
      },
      "source": [
        "### Dirichlet boundary conditions\n",
        "\n",
        "Dirichlet (displacement) boundary conditions are now represented. Earlier we found the facets on which boundary conditions should be applied. We now find the constrained degrees-of-freedoms on the facets and set the boundary condition value."
      ]
    },
    {
      "cell_type": "code",
      "execution_count": null,
      "metadata": {
        "id": "daPhtSDBQ9z-"
      },
      "outputs": [],
      "source": [
        "# Displacement boundary condition u_0 = 0.0 on x_0 = 0.0\n",
        "dofs0 = dolfinx.fem.locate_dofs_topological(V.sub(0), entity_dim=1, entities=facets0)\n",
        "bc0 = dolfinx.fem.dirichletbc(0.0, dofs0, V=V.sub(0))\n",
        "\n",
        "# Displacement boundary condition u_1 = 0.0 on x_1 = 0.0\n",
        "dofs1 = dolfinx.fem.locate_dofs_topological(V.sub(1), entity_dim=1, entities=facets1)\n",
        "bc1 = dolfinx.fem.dirichletbc(0.0, dofs1, V=V.sub(1))\n",
        "\n",
        "# Collect boundary conditions in a list\n",
        "bcs = [bc0, bc1]"
      ]
    },
    {
      "cell_type": "markdown",
      "metadata": {
        "id": "rV78HgNHRVpf"
      },
      "source": [
        "### Solve\n",
        "\n",
        "The following solve the finite element problem, returning the finite element solution for the displacement field. The solve command forms the stiffness matrix and RHS vector, applies the Dirichlet boundary conditions to the linear system, and solves the problem. The dictionary `petsc_options` sets options for the linear solver."
      ]
    },
    {
      "cell_type": "code",
      "execution_count": null,
      "metadata": {
        "colab": {
          "base_uri": "https://localhost:8080/"
        },
        "id": "2zT3rDiORXgP",
        "outputId": "01d89d73-4d8c-45a0-ba9a-c8f3099e6c73"
      },
      "outputs": [],
      "source": [
        "from dolfinx.fem.petsc import LinearProblem\n",
        "problem = LinearProblem(a, L, bcs=bcs, petsc_options={\"ksp_type\": \"preonly\", \"pc_type\": \"lu\"})\n",
        "uh = problem.solve()\n",
        "uh.name = \"u\"\n",
        "print(f\"Number of degrees-of-freedom: {uh.x.array.shape[0]}\")"
      ]
    },
    {
      "cell_type": "markdown",
      "metadata": {
        "id": "IgkXxHo3Rrmv"
      },
      "source": [
        "### View and save displacement field\n",
        "\n",
        "A helpful first check is to visualise the deformed solution, magnified by a suitable scaling factor. This check can quickly identify issues with boundary conditions, e.g. correct direction of the loading."
      ]
    },
    {
      "cell_type": "code",
      "execution_count": null,
      "metadata": {
        "colab": {
          "base_uri": "https://localhost:8080/",
          "height": 536
        },
        "id": "Q-kH6EdaSVUD",
        "outputId": "9cf829e0-cac0-46a1-e9f5-30a045fcc08f"
      },
      "outputs": [],
      "source": [
        "# Create a pyvista mesh and attach the values of u\n",
        "cells, types, x = dolfinx.plot.vtk_mesh(V)\n",
        "grid = pyvista.UnstructuredGrid(cells, types, x)\n",
        "\n",
        "# Attach solution values to the grid\n",
        "values = np.zeros((x.shape[0], 3), dtype=np.float64)\n",
        "values[:, :msh.topology.dim] = uh.x.array.reshape(x.shape[0], msh.topology.dim)\n",
        "grid.point_data[\"u\"] = values\n",
        "grid.active_vectors_name = 'u'\n",
        "\n",
        "# Create a 'warped' version with the displacement magnified by a factor\n",
        "warped = grid.warp_by_vector(factor=200.0)\n",
        "\n",
        "# Plot\n",
        "pl = pyvista.Plotter(notebook=True)\n",
        "pl.add_mesh(grid, color='w', show_edges=False)\n",
        "pl.add_mesh(warped, opacity=0.5, color='w', show_edges=True)\n",
        "pl.add_text(\"Deformed mesh\", color='k', font_size=12)\n",
        "pl.view_xy()\n",
        "pl.show(jupyter_backend=\"static\", return_viewer=True)"
      ]
    },
    {
      "cell_type": "markdown",
      "metadata": {
        "id": "KUgD_Bb1S0kD"
      },
      "source": [
        "Below contours of the displacement are displayed."
      ]
    },
    {
      "cell_type": "code",
      "execution_count": null,
      "metadata": {
        "colab": {
          "base_uri": "https://localhost:8080/",
          "height": 536
        },
        "id": "KpVOU7oERsgj",
        "outputId": "32ea9049-6182-4d56-faad-a8abec43d98d"
      },
      "outputs": [],
      "source": [
        "pl = pyvista.Plotter(shape=(3, 1), notebook=True)\n",
        "\n",
        "pl.subplot(0, 0)\n",
        "pl.add_mesh(grid.copy(), show_edges=False, scalars=\"u\", scalar_bar_args={'title': 'norm(u)'})\n",
        "pl.add_text(\"normalized displacement\", color='k', font_size=12)\n",
        "\n",
        "pl.subplot(1, 0)\n",
        "pl.add_mesh(grid.copy(), component=0, scalar_bar_args={'title': 'x'})\n",
        "pl.add_text(\"x-displacement\", color='k', font_size=12)\n",
        "\n",
        "pl.subplot(2, 0)\n",
        "pl.add_mesh(grid.copy(), component=1, scalars=\"u\", scalar_bar_args={'title': 'y'})\n",
        "pl.add_text(\"y-displacement\", color='k', font_size=12)\n",
        "\n",
        "pl.link_views()\n",
        "pl.view_xy()\n",
        "pl.show(jupyter_backend=\"static\", return_viewer=True)"
      ]
    },
    {
      "cell_type": "markdown",
      "metadata": {
        "id": "f3h2cQdbTeWi"
      },
      "source": [
        "The displacement field is saved to file.\n",
        "\n",
        "> **Note:** There will be two files, `.xdmf` and `.h5`, and both must be in the same directory when opening using [ParaView](https://www.paraview.org/). Do not change the filenames.\n",
        "\n",
        "> **Note**: Files written in Colab can be seen by clicking the 'files' icon on the left-hand side bar, and from there downloaded."
      ]
    },
    {
      "cell_type": "code",
      "execution_count": null,
      "metadata": {
        "id": "iCu8T2vqTffd"
      },
      "outputs": [],
      "source": [
        "with dolfinx.io.XDMFFile(msh.comm, \"u.xdmf\", \"w\") as file:\n",
        "    file.write_mesh(msh)\n",
        "    file.write_function(uh)"
      ]
    },
    {
      "cell_type": "markdown",
      "metadata": {
        "id": "bU5yIBjmTv0Q"
      },
      "source": [
        "## Post-processing of the stress field\n",
        "\n",
        "We compute the stress field from the displacement field. Note that the computed stress is discontinuous, therefore we will use a discontinuous finite element space to store it. We use DOLFINx to compute the stress field from the displacement field.\n",
        "\n",
        "Stress is actually a second-order tensor (roughly speaking, matrix). PyVista expects a $3 \\times 3$ stress tensor:\n",
        "$$\n",
        "\\sigma =\n",
        "\\begin{bmatrix}\n",
        "\\sigma_{xx} & \\sigma_{xy} & \\sigma_{xz} \\\\\n",
        "\\sigma_{yx} & \\sigma_{yy} & \\sigma_{yz} \\\\\n",
        "\\sigma_{zx} & \\sigma_{zy} & \\sigma_{zz}\n",
        "\\end{bmatrix}\n",
        "$$\n",
        "The stress tensor must be symmetric."
      ]
    },
    {
      "cell_type": "code",
      "execution_count": null,
      "metadata": {
        "id": "JFjCT0AYTy3j"
      },
      "outputs": [],
      "source": [
        "# Stress from the computed displacement field\n",
        "sigma = σ(uh)\n",
        "\n",
        "# Evalate the stress field\n",
        "gdim = msh.geometry.dim\n",
        "W = dolfinx.fem.functionspace(msh, (\"Discontinuous Lagrange\", P - 1, (gdim, gdim)))\n",
        "sigma_expr = dolfinx.fem.Expression(sigma, W.element.interpolation_points())\n",
        "sigma_h = dolfinx.fem.Function(W, name='sigma')\n",
        "sigma_h.interpolate(sigma_expr)"
      ]
    },
    {
      "cell_type": "markdown",
      "metadata": {
        "id": "SL5NVjZApsgm"
      },
      "source": [
        "### Full stress field\n",
        "\n",
        "We first visualise the stress components.\n",
        "PyVista indexes the components of the stress tensor using an integer with row-major layout, i.e. `0` for $\\sigma_{xx}$, `1` for $\\sigma_{xy}$, `2` for $\\sigma_{xz}$, `3` for $\\sigma_{yx}$, and so forth."
      ]
    },
    {
      "cell_type": "code",
      "execution_count": null,
      "metadata": {
        "colab": {
          "base_uri": "https://localhost:8080/",
          "height": 536
        },
        "id": "Hzym8qFcimU7",
        "outputId": "395e4757-d13d-4d72-8158-bc2954995d42"
      },
      "outputs": [],
      "source": [
        "# The plotting in this section works for piecewise-constant stresses only\n",
        "\n",
        "# Plots the xx, xy and yy components of the stress\n",
        "pl = pyvista.Plotter(shape=(3, 1), notebook=True)\n",
        "if P == 1:\n",
        "    # Plotting here assumes a specific orderong of dofs. This assertion checks\n",
        "    # the the assumption is true\n",
        "    assert np.array_equal(W.dofmap.list.flatten(), range(W.dofmap.list.shape[0]))\n",
        "\n",
        "    num_cells = msh.topology.index_map(msh.topology.dim).size_local\n",
        "\n",
        "    # Attach the stress 'degrees-of-freedom' to the grid (3x3 tensor)\n",
        "    values = np.zeros((num_cells, 3, 3), dtype=np.float64)\n",
        "    values[:, :2, :2] = sigma_h.x.array.reshape(num_cells, 2, 2)\n",
        "    grid.cell_data[\"sigma\"] = values\n",
        "\n",
        "    pl.subplot(0, 0)\n",
        "    pl.add_mesh(grid.copy(),  component=0, show_edges=False, scalars=\"sigma\", scalar_bar_args={'title': 'stress_xx'})\n",
        "    pl.add_text(\"sigma_xx\", color='k', font_size=12)\n",
        "\n",
        "    pl.subplot(1, 0)\n",
        "    pl.add_mesh(grid.copy(),  component=1, show_edges=False, scalars=\"sigma\", scalar_bar_args={'title': 'stress_xy'})\n",
        "    pl.add_text(\"sigma_xy\", color='k', font_size=12)\n",
        "\n",
        "    pl.subplot(2, 0)\n",
        "    pl.add_mesh(grid.copy(),  component=4, show_edges=False, scalars=\"sigma\", scalar_bar_args={'title': 'stress_yy'})\n",
        "    pl.add_text(\"sigma_yy\", color='k', font_size=12)\n",
        "\n",
        "    pl.link_views()\n",
        "    pl.view_xy()\n",
        "pl.show(jupyter_backend=\"static\", return_viewer=True)"
      ]
    },
    {
      "cell_type": "markdown",
      "metadata": {
        "id": "UYfgSrTXqZPp"
      },
      "source": [
        "We also save the stress field to file for more detailed analysis using ParaView."
      ]
    },
    {
      "cell_type": "code",
      "execution_count": null,
      "metadata": {
        "id": "LEo1BFLmUA3b"
      },
      "outputs": [],
      "source": [
        "with dolfinx.io.XDMFFile(msh.comm, \"stress.xdmf\", \"w\") as file:\n",
        "    file.write_mesh(msh)\n",
        "    file.write_function(sigma_h)"
      ]
    },
    {
      "cell_type": "markdown",
      "metadata": {
        "id": "eXySwJo-qftL"
      },
      "source": [
        "### Stress components along axes"
      ]
    },
    {
      "cell_type": "markdown",
      "metadata": {
        "id": "5903hDoOgIqu"
      },
      "source": [
        "#### $x$-axis\n",
        "\n",
        "Evaluate stress along $x_{1} = 0$ ($y = 0$) axis.\n",
        "\n",
        "We create points at which to evaluate the solution."
      ]
    },
    {
      "cell_type": "code",
      "execution_count": null,
      "metadata": {
        "id": "342QguDMq3SD"
      },
      "outputs": [],
      "source": [
        "# Evaluation points along y = 0 (note that y is slightly larger\n",
        "# than 0 - this ensures that evaluations are inside the domain)\n",
        "eps = 0.00001\n",
        "xp = np.zeros([400, 3])\n",
        "xp[:, 0] = np.linspace(r + eps, length - eps, xp.shape[0])\n",
        "xp[:, 1] = 1.0e-8"
      ]
    },
    {
      "cell_type": "code",
      "execution_count": null,
      "metadata": {
        "id": "btE3e1BSrOP1"
      },
      "outputs": [],
      "source": [
        "# Analytical expression for an infinite plate with a hole\n",
        "sigma_xx_x0 = np.ones(xp.shape[0]) - 5 * r * r / (2*np.power(xp[:, 0], 2)) + 3*np.power(r, 4)/(2*np.power(xp[:, 0], 4))\n",
        "sigma_yy_x0 = r**2/(2*np.power(xp[:, 0], 2)) - 3*r**4/(2*np.power(xp[:, 0], 4))"
      ]
    },
    {
      "cell_type": "code",
      "execution_count": null,
      "metadata": {
        "id": "3D6YtawWq_cc"
      },
      "outputs": [],
      "source": [
        "# Find the cells that contain the evaluation points\n",
        "tree = dolfinx.geometry.bb_tree(msh, msh.geometry.dim)\n",
        "cell_candidates_px = dolfinx.geometry.compute_collisions_points(tree, xp)\n",
        "cells_px = dolfinx.geometry.compute_colliding_cells(msh, cell_candidates_px, xp)\n",
        "assert xp.shape[0] == cells_px.array.shape[0]"
      ]
    },
    {
      "cell_type": "code",
      "execution_count": null,
      "metadata": {
        "colab": {
          "base_uri": "https://localhost:8080/",
          "height": 474
        },
        "id": "_jSarDPFg_gQ",
        "outputId": "1e28235d-4623-4c27-8459-2f67960f9188"
      },
      "outputs": [],
      "source": [
        "# Evaluate stress at the points, and reshape into a 2x2 tensor at each point\n",
        "sigma_bottom = sigma_h.eval(xp, cells_px.array)\n",
        "sigma_tensor = sigma_bottom.reshape(xp.shape[0], 2, 2)\n",
        "\n",
        "# Normalise by the load\n",
        "sigma_tensor /= 58.0\n",
        "\n",
        "# Plot\n",
        "plt.plot(xp[:, 0], sigma_tensor[:, 0, 0], 'b-', label=\"FE $\\sigma_{xx}$\")\n",
        "plt.plot(xp[:, 0], sigma_xx_x0, 'r-', label=\"Analyitcal $\\sigma_{xx}$ (infinite plate)\")\n",
        "\n",
        "plt.plot(xp[:, 0], sigma_tensor[:, 1, 1], 'b--', label=\"FE $\\sigma_{yy}$\")\n",
        "plt.plot(xp[:, 0], sigma_yy_x0, 'r--', label=\"Analyitcal $\\sigma_{yy}$ (infinite plate)\")\n",
        "\n",
        "plt.title(\"Normalised stress along $y=0$\")\n",
        "plt.ylabel(\"normalised stress\")\n",
        "plt.xlabel(\"distance from center of the hole (mm)\")\n",
        "plt.legend()\n",
        "plt.show()"
      ]
    },
    {
      "cell_type": "markdown",
      "metadata": {
        "id": "u5PuegcEgvzJ"
      },
      "source": [
        "Save to file for further processing, possibly outside of the notebook, e.g.:"
      ]
    },
    {
      "cell_type": "code",
      "execution_count": null,
      "metadata": {
        "id": "spDkQdOfg0eP"
      },
      "outputs": [],
      "source": [
        "np.savetxt(\"x.txt\", xp[:, 0])\n",
        "np.savetxt(\"sigma_h_xx_y0.txt\", sigma_tensor[:, 0, 0])\n",
        "np.savetxt(\"sigma_xx_x0.txt\", sigma_xx_x0)"
      ]
    },
    {
      "cell_type": "markdown",
      "metadata": {
        "id": "hrdjzxQ1gMWS"
      },
      "source": [
        "#### $y$-axis\n",
        "\n",
        "Evaluate stress along $x_{0} = 0$ ($x = 0) axis.\n",
        "\n",
        "> Note the lines for plotting the adding the experimentally measured stresses. Use your own experimental data from 3C7. If you did not do the 3C7 lab, data can be found on the course VLE page.\n"
      ]
    },
    {
      "cell_type": "code",
      "execution_count": null,
      "metadata": {
        "colab": {
          "base_uri": "https://localhost:8080/",
          "height": 474
        },
        "id": "arTywNyvrhvQ",
        "outputId": "9b20802d-987f-4aea-abec-91489cc37390"
      },
      "outputs": [],
      "source": [
        "yp = np.zeros([400, 3])\n",
        "eps = 1.0e-5\n",
        "yp[:, 1] = np.linspace(r + eps, width - eps, yp.shape[0])\n",
        "yp[:, 0] = 1.0e-8\n",
        "\n",
        "# Analytical expression for an infinite plate with a hole\n",
        "sigma_xx_x1 = np.ones(yp.shape[0]) + r**2 / (2*np.power(yp[:, 1], 2)) + 3*r**4/(2*np.power(yp[:, 1], 4))\n",
        "sigma_yy_x1 = (3.0 / 2.0) * (r**2 / np.power(yp[:, 1], 2) - r**4 / np.power(yp[:, 1], 4))\n",
        "\n",
        "# Find the cells that contain the evaluation points\n",
        "cell_candidates_py = dolfinx.geometry.compute_collisions_points(tree, yp)\n",
        "cells_py = dolfinx.geometry.compute_colliding_cells(msh, cell_candidates_py, yp)\n",
        "assert yp.shape[0] == cells_py.array.shape[0]\n",
        "\n",
        "# Evaluate stress at the points, and reshape into a 2x2 tensor at each point\n",
        "sigma_side = sigma_h.eval(yp, cells_py.array)\n",
        "sigma_tensor = sigma_side.reshape(yp.shape[0], 2, 2)\n",
        "\n",
        "# Normalise by the load\n",
        "sigma_tensor /= 58.0\n",
        "\n",
        "# Plot\n",
        "plt.plot(yp[:, 1], sigma_tensor[:, 0, 0], 'b-', label=\"FE $\\sigma_{xx}$\")\n",
        "plt.plot(yp[:, 1], sigma_xx_x1, 'r-', label=\"Analyitical $\\sigma_{xx}$ (infinite plate)\")\n",
        "\n",
        "# Experimental data\n",
        "# sigmaxx_exp = np.loadtxt('symmetric_plate1.txt')\n",
        "# plt.plot(np.flip(sigmaxx_exp[:, 1]), np.flip(sigmaxx_exp[:,0]), 'g-',label=\"Experimental $\\sigma_{xx}$\")\n",
        "\n",
        "plt.plot(yp[:, 1], sigma_tensor[:, 1, 1], 'b--', label=\"FE $\\sigma_{yy}$\")\n",
        "plt.plot(yp[:, 1], sigma_yy_x1, 'r--', label=\"Analyitical $\\sigma_{yy}$(infinite plate)\")\n",
        "\n",
        "plt.title(\"Normalised stress along $x=0$\")\n",
        "plt.ylabel(\"normalised stress\")\n",
        "plt.xlabel(\"distance from center of the hole (mm)\")\n",
        "plt.legend()\n",
        "plt.show()"
      ]
    },
    {
      "cell_type": "markdown",
      "metadata": {
        "id": "4SRje_8NiKCc"
      },
      "source": [
        "### Von Mises stress\n",
        "\n",
        "The deviatoric stress is defined as\n",
        "$$\n",
        "\\boldsymbol{s} = \\boldsymbol{\\sigma} - \\frac{1}{3} {\\rm tr} \\sigma \\boldsymbol{I}\n",
        "$$\n",
        "or in indices,\n",
        "$$\n",
        "s_{ij} = \\sigma_{ij} - \\frac{\\sigma_{kk}}{3} \\delta_{ij}\n",
        "$$\n",
        "The von Mises stress is equal to $\\sqrt{2 J_{2}}$, where $\\sqrt{2 J_{2}}$ is the second invariant of the deviatoric stress. The von Mises stress is given by:\n",
        "$$\n",
        "\\sigma_{v} = \\sqrt{\\frac{3}{2} s_{ij} s_{ij}}\n",
        "$$"
      ]
    },
    {
      "cell_type": "code",
      "execution_count": null,
      "metadata": {
        "id": "fJVf16pupbSg"
      },
      "outputs": [],
      "source": [
        "# Deviatoric stress (symbolic expression)\n",
        "s = sigma_h - (1.0/3) * ufl.tr(sigma_h) * ufl.Identity(2)\n",
        "\n",
        "# Von Mises stress (symbolic expression)\n",
        "sigma_vm = ufl.sqrt((3.0/2.0) * ufl.inner(s, s))\n",
        "\n",
        "# Evaluate the Von Mises stress\n",
        "Q = dolfinx.fem.functionspace(msh, (\"Discontinuous Lagrange\", P - 1))\n",
        "sigmavm_expr = dolfinx.fem.Expression(sigma_vm, Q.element.interpolation_points())\n",
        "sigmavm_h = dolfinx.fem.Function(Q)\n",
        "sigmavm_h.interpolate(sigmavm_expr)"
      ]
    },
    {
      "cell_type": "code",
      "execution_count": null,
      "metadata": {
        "colab": {
          "base_uri": "https://localhost:8080/",
          "height": 536
        },
        "id": "VvhNHBHEq9WE",
        "outputId": "75cb89f3-dded-4c3f-8e09-d334ce2cc016"
      },
      "outputs": [],
      "source": [
        "# The plotting in this section works for piecewise-constant stresses only\n",
        "pl = pyvista.Plotter(notebook=True)\n",
        "if P == 1:\n",
        "    # Plotting here assumes a specific orderong of dofs. This assertion checks\n",
        "    # the the assumption is true\n",
        "    assert np.array_equal(Q.dofmap.list.flatten(), range(Q.dofmap.list.shape[0]))\n",
        "\n",
        "    # Get VTK/PyVista mesh data and create a PyVista grid\n",
        "    cells, types, x = dolfinx.plot.vtk_mesh(msh)\n",
        "    grid = pyvista.UnstructuredGrid(cells, types, x)\n",
        "\n",
        "    num_cells = msh.topology.index_map(msh.topology.dim).size_local\n",
        "\n",
        "    # Attach the Von Mises stress 'degrees-of-freedom'\n",
        "    grid.cell_data[\"sigma_vm\"] = sigmavm_h.x.array\n",
        "\n",
        "    pl.add_mesh(grid, show_edges=True)\n",
        "    pl.add_text(\"Von Mises stress\", color='k', font_size=12)\n",
        "    pl.view_xy()\n",
        "else:\n",
        "    print(\"PyVista plotting of discontinuous functions is supported only for piece-wise constants.\")\n",
        "\n",
        "pl.show(jupyter_backend=\"static\", return_viewer=True)"
      ]
    },
    {
      "cell_type": "code",
      "execution_count": null,
      "metadata": {
        "id": "23JRKkCGtvgv"
      },
      "outputs": [],
      "source": [
        "with dolfinx.io.XDMFFile(msh.comm, \"vm.xdmf\", \"w\") as file:\n",
        "    file.write_mesh(msh)\n",
        "    file.write_function(sigmavm_h)"
      ]
    },
    {
      "cell_type": "markdown",
      "metadata": {
        "id": "ajTUi4LOKTrv"
      },
      "source": [
        "# Appendix: analytical solutions\n"
      ]
    },
    {
      "cell_type": "markdown",
      "metadata": {
        "id": "k8-H7tZ8Uc3W"
      },
      "source": [
        "## Infinite plate\n",
        "\n",
        "There are several analytical solutions\n",
        "for the stress distributions in thin plates with circular holes.\n",
        "The best known is the solution for a circular hole of radius $R$\n",
        "in an infinite plate,\n",
        "\n",
        "![Infinite plate](https://raw.githubusercontent.com/garth-wells/3D7Lab/main/handout/figs/infinite-plate.svg?token=GHSAT0AAAAAABX4UUKMCZHG444XPPZUFN4EZOIWPDA)\n",
        "\n",
        "(S.P. Timoshenko and J.N. Goodier, Theory of Elasticity, p. 90-93.)\n",
        "The stress components on the centre lines are given by\n",
        "\n",
        "$x$-axis:\n",
        "\\begin{align}\n",
        "\\frac{\\sigma_{xx}}{\\sigma_0 } &= 1 -\\frac{5R^2 }{2x^2 } + \\frac{3R^4}{2x^4 }\\\\\n",
        "\\frac{\\sigma_{yy}}{\\sigma_0} &= \\frac{R^2}{2x^2} - \\frac{3R^4}{2x^4}\n",
        "\\end{align}\n",
        "\n",
        "$y$-axis:\n",
        "\\begin{align}\n",
        "\\frac{\\sigma _{xx}}{\\sigma _0} &= 1 + \\frac{R^2}{2y^2} + \\frac{3R^4}{2y^4} \\\\\n",
        "\\frac{\\sigma _{yy}}{\\sigma _0} &= \\frac{3}{2}\\left( \\frac{R^2}{y^2} -\n",
        "\\frac{R^4}{y^4} \\right)\n",
        "\\end{align}\n",
        "\n",
        "Both axes:\n",
        "$$\n",
        " \\sigma_{xy} =0\n",
        "$$\n",
        "\n",
        "The stress concentration decays\n",
        "rather quickly away from the hole. Therefore, this solution can\n",
        "be used for non-infinite plates, provided that the edges of the\n",
        "plate are sufficiently far from the hole that the stresses on the\n",
        "edges are approximately equal to the remote stress field. If this\n",
        "is not the case, alternative solutions may\n",
        "be used."
      ]
    },
    {
      "cell_type": "markdown",
      "metadata": {
        "id": "ZwLkTrVebyFo"
      },
      "source": [
        "## Howland solution\n",
        "\n",
        "![Finite plate](https://raw.githubusercontent.com/garth-wells/3D7Lab/main/handout/figs/finite-plate.svg?token=GHSAT0AAAAAABX4UUKNWMRNWEYRC6ZJ5VH6ZOIWPYQ)\n",
        "\n",
        "Howland (Howland, R.C.J. (1930). On the stresses in the\n",
        "neighbourhood of a circular hole in a strip under tension.\n",
        "Philosophical Transactions of the Royal Society of London A, 229,\n",
        "49-86.) derived semi-analytical expressions for the stress\n",
        "concentration factors at the edge of a symmetric hole of radius\n",
        "$R$ in a plate of finite width $2W$. These factors have been\n",
        "calculated for a range of plate geometries and are shown in the\n",
        "table below.\n",
        "\n",
        "\n",
        "Stress concentration factors:\n",
        "\n",
        "| $R/W$     | Point A                    |   Point B                         |\n",
        "|:---------:|:--------------------------:|:--------------------------:|\n",
        "|           | $\\dfrac{\\sigma_{xx}}{\\sigma_{0}}$   | $\\dfrac{\\sigma_{yy}}{\\sigma_{0}}$   |\n",
        "| $0$       | $3.00$                     | $-1.00$                    |\n",
        "| $0.1$     | $3.03$                     | $-1.03$                    |\n",
        "| $0.2$     | $3.14$                     | $-1.11$                    |\n",
        "| $0.3$     | $3.36$                     | $-1.26$                    |\n",
        "| $0.4$     | $3.74$                     | $-1.44$                    |\n",
        "| $0.5$     | $4.32$                     | $-1.58$                    |\n"
      ]
    },
    {
      "cell_type": "markdown",
      "metadata": {},
      "source": []
    }
  ],
  "metadata": {
    "colab": {
      "collapsed_sections": [
        "1kHAxsvWRkCK",
        "k8-H7tZ8Uc3W"
      ],
      "provenance": [],
      "toc_visible": true
    },
    "kernelspec": {
      "display_name": "dolfinx-env",
      "language": "python",
      "name": "python3"
    },
    "language_info": {
      "codemirror_mode": {
        "name": "ipython",
        "version": 3
      },
      "file_extension": ".py",
      "mimetype": "text/x-python",
      "name": "python",
      "nbconvert_exporter": "python",
      "pygments_lexer": "ipython3",
      "version": "3.10.13"
    },
    "vscode": {
      "interpreter": {
        "hash": "49dff43ba64f31bf71431b2199ea53b72807f93449e98414ecabadb111429e49"
      }
    }
  },
  "nbformat": 4,
  "nbformat_minor": 0
}
